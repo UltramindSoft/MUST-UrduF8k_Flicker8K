{
 "cells": [
  {
   "cell_type": "code",
   "execution_count": 1,
   "metadata": {},
   "outputs": [
    {
     "name": "stderr",
     "output_type": "stream",
     "text": [
      "Using TensorFlow backend.\n"
     ]
    }
   ],
   "source": [
    "import numpy as np\n",
    "from numpy import array\n",
    "import pandas as pd\n",
    "import matplotlib.pyplot as plt \n",
    "import string\n",
    "import os\n",
    "from PIL import Image\n",
    "import glob\n",
    "from pickle import dump, load\n",
    "from tqdm import tqdm_notebook as tqdm\n",
    "from time import time\n",
    "from keras.preprocessing import sequence\n",
    "from keras.models import Sequential\n",
    "from keras.layers import LSTM, Embedding, TimeDistributed, Dense, RepeatVector,\\\n",
    "                         Activation, Flatten, Reshape, concatenate, Dropout, BatchNormalization\n",
    "    \n",
    "import h5py\n",
    "from keras.optimizers import Adam, RMSprop\n",
    "from keras.layers.wrappers import Bidirectional\n",
    "from keras.layers.merge import add\n",
    "from keras.applications.inception_v3 import InceptionV3\n",
    "from keras.preprocessing import image\n",
    "from keras.models import Model\n",
    "from keras import Input, layers\n",
    "from keras import optimizers\n",
    "from keras.applications.inception_v3 import preprocess_input\n",
    "from keras.preprocessing.text import Tokenizer\n",
    "from keras.preprocessing.sequence import pad_sequences\n",
    "from keras.utils import to_categorical"
   ]
  },
  {
   "cell_type": "code",
   "execution_count": 2,
   "metadata": {},
   "outputs": [],
   "source": [
    "try:\n",
    "    import dill as pickle\n",
    "except ImportError:\n",
    "    import pickle"
   ]
  },
  {
   "cell_type": "markdown",
   "metadata": {},
   "source": [
    "# Loading Precomputed Data"
   ]
  },
  {
   "cell_type": "code",
   "execution_count": 3,
   "metadata": {
    "scrolled": true
   },
   "outputs": [
    {
     "name": "stdout",
     "output_type": "stream",
     "text": [
      "Photos: train=6000\n"
     ]
    }
   ],
   "source": [
    "# Loading Image Features\n",
    "train_features = load(open(\"C:/Flickr8k_urdu_17july/encoded_train_images_17july.pkl\", \"rb\"))\n",
    "print('Photos: train=%d' % len(train_features))"
   ]
  },
  {
   "cell_type": "code",
   "execution_count": 4,
   "metadata": {
    "scrolled": true
   },
   "outputs": [
    {
     "name": "stdout",
     "output_type": "stream",
     "text": [
      "Photos: train=6000\n"
     ]
    }
   ],
   "source": [
    "# Load Train Descriptions, which contains, 5 captions corresponding to a key\n",
    "train_descriptions = load(open(\"C:/Flickr8k_urdu_17july/train_descriptions_17july.pkl\", \"rb\"))\n",
    "print('Photos: train=%d' % len(train_descriptions))"
   ]
  },
  {
   "cell_type": "code",
   "execution_count": 5,
   "metadata": {},
   "outputs": [
    {
     "name": "stdout",
     "output_type": "stream",
     "text": [
      "Embedding Matrix shape = (2145, 300)\n"
     ]
    }
   ],
   "source": [
    "# Loading embedding_matrix\n",
    "embedding_matrix = load(open(\"C:/Flickr8k_urdu_17july/Embedding_Matrix_17july.pkl\", \"rb\"))\n",
    "print('Embedding Matrix shape = (%d, %d)' % (embedding_matrix.shape))"
   ]
  },
  {
   "cell_type": "code",
   "execution_count": 10,
   "metadata": {},
   "outputs": [
    {
     "name": "stdout",
     "output_type": "stream",
     "text": [
      "Wordtoix Length = 2144\n"
     ]
    }
   ],
   "source": [
    "# Loading wordtoix\n",
    "wordtoix = load(open(\"C:/Flickr8k_urdu_17july/wordtoix_17july.pkl\", \"rb\"))\n",
    "print('Wordtoix Length = %d' % len(wordtoix))"
   ]
  },
  {
   "cell_type": "markdown",
   "metadata": {},
   "source": [
    "# Data Generator"
   ]
  },
  {
   "cell_type": "code",
   "execution_count": 11,
   "metadata": {},
   "outputs": [],
   "source": [
    "max_length = 34 # computer from file 2\n",
    "epochs = 10\n",
    "number_pics_per_bath = 3\n",
    "steps = len(train_descriptions)//number_pics_per_bath"
   ]
  },
  {
   "cell_type": "code",
   "execution_count": 12,
   "metadata": {},
   "outputs": [],
   "source": [
    "# data generator, intended to be used in a call to model.fit_generator()\n",
    "def data_generator(descriptions, photos, wordtoix, max_length, num_photos_per_batch):\n",
    "    X1, X2, y = list(), list(), list()\n",
    "    n=0\n",
    "    \n",
    "    while 1:\n",
    "        for key, desc_list in descriptions.items():\n",
    "            n+=1\n",
    "            \n",
    "            photo = photos[key+'.jpg']\n",
    "            for desc in desc_list:\n",
    "                # encode the sequence\n",
    "                seq = [wordtoix[word] for word in desc.split(' ') if word in wordtoix]\n",
    "                # split one sequence into multiple X, y pairs\n",
    "                for i in range(1, len(seq)):\n",
    "                    # split into input and output pair\n",
    "                    in_seq, out_seq = seq[:i], seq[i]\n",
    "                    # pad input sequence\n",
    "                    in_seq = pad_sequences([in_seq], maxlen=max_length)[0]\n",
    "                    # encode output sequence\n",
    "                    out_seq = to_categorical([out_seq], num_classes=vocab_size)[0]\n",
    "                    # store\n",
    "                    X1.append(photo)\n",
    "                    X2.append(in_seq)\n",
    "                    y.append(out_seq)\n",
    "            # yield the batch data\n",
    "            if n==num_photos_per_batch:\n",
    "                yield [[array(X1), array(X2)], array(y)]\n",
    "                X1, X2, y = list(), list(), list()\n",
    "                n=0\n",
    "    return X1, X2, y"
   ]
  },
  {
   "cell_type": "code",
   "execution_count": 13,
   "metadata": {},
   "outputs": [],
   "source": [
    "max_length = 35 # computer from file 2\n",
    "epochs = 10\n",
    "number_pics_per_bath = 15\n",
    "steps = len(train_descriptions)//number_pics_per_bath"
   ]
  },
  {
   "cell_type": "code",
   "execution_count": 14,
   "metadata": {},
   "outputs": [
    {
     "data": {
      "text/plain": [
       "(2048,)"
      ]
     },
     "execution_count": 14,
     "metadata": {},
     "output_type": "execute_result"
    }
   ],
   "source": [
    "train_features['2513260012_03d33305cf.jpg'].shape"
   ]
  },
  {
   "cell_type": "markdown",
   "metadata": {},
   "source": [
    "# Defining the Model"
   ]
  },
  {
   "cell_type": "code",
   "execution_count": 15,
   "metadata": {},
   "outputs": [
    {
     "data": {
      "text/plain": [
       "(35, 2145, 300)"
      ]
     },
     "execution_count": 15,
     "metadata": {},
     "output_type": "execute_result"
    }
   ],
   "source": [
    "max_length = 35 \n",
    "vocab_size = embedding_matrix.shape[0]\n",
    "number_pics_per_bath = 3\n",
    "steps = len(train_descriptions)//number_pics_per_bath\n",
    "embedding_dim = embedding_matrix.shape[1]\n",
    "max_length,vocab_size ,embedding_dim"
   ]
  },
  {
   "cell_type": "code",
   "execution_count": 16,
   "metadata": {},
   "outputs": [],
   "source": [
    "inputs1 = Input(shape=(2048,))\n",
    "fe1 = Dropout(0.5)(inputs1)\n",
    "fe2 = Dense(256, activation='relu')(fe1)\n",
    "inputs2 = Input(shape=(max_length,))\n",
    "se1 = Embedding(vocab_size, embedding_dim, mask_zero=True)(inputs2)\n",
    "se2 = Dropout(0.5)(se1)\n",
    "se3 = LSTM(256)(se2)\n",
    "decoder1 = add([fe2, se3])\n",
    "decoder2 = Dense(256, activation='relu')(decoder1)\n",
    "outputs = Dense(vocab_size, activation='softmax')(decoder2)\n",
    "my_model = Model(inputs=[inputs1, inputs2], outputs=outputs)"
   ]
  },
  {
   "cell_type": "code",
   "execution_count": 14,
   "metadata": {},
   "outputs": [
    {
     "name": "stdout",
     "output_type": "stream",
     "text": [
      "Model: \"model_2\"\n",
      "__________________________________________________________________________________________________\n",
      "Layer (type)                    Output Shape         Param #     Connected to                     \n",
      "==================================================================================================\n",
      "input_4 (InputLayer)            (None, 35)           0                                            \n",
      "__________________________________________________________________________________________________\n",
      "input_3 (InputLayer)            (None, 2048)         0                                            \n",
      "__________________________________________________________________________________________________\n",
      "embedding_2 (Embedding)         (None, 35, 300)      643500      input_4[0][0]                    \n",
      "__________________________________________________________________________________________________\n",
      "dropout_3 (Dropout)             (None, 2048)         0           input_3[0][0]                    \n",
      "__________________________________________________________________________________________________\n",
      "dropout_4 (Dropout)             (None, 35, 300)      0           embedding_2[0][0]                \n",
      "__________________________________________________________________________________________________\n",
      "dense_4 (Dense)                 (None, 256)          524544      dropout_3[0][0]                  \n",
      "__________________________________________________________________________________________________\n",
      "lstm_2 (LSTM)                   (None, 256)          570368      dropout_4[0][0]                  \n",
      "__________________________________________________________________________________________________\n",
      "add_2 (Add)                     (None, 256)          0           dense_4[0][0]                    \n",
      "                                                                 lstm_2[0][0]                     \n",
      "__________________________________________________________________________________________________\n",
      "dense_5 (Dense)                 (None, 256)          65792       add_2[0][0]                      \n",
      "__________________________________________________________________________________________________\n",
      "dense_6 (Dense)                 (None, 2145)         551265      dense_5[0][0]                    \n",
      "==================================================================================================\n",
      "Total params: 2,355,469\n",
      "Trainable params: 2,355,469\n",
      "Non-trainable params: 0\n",
      "__________________________________________________________________________________________________\n"
     ]
    }
   ],
   "source": [
    "my_model.summary()"
   ]
  },
  {
   "cell_type": "code",
   "execution_count": 15,
   "metadata": {},
   "outputs": [
    {
     "data": {
      "text/plain": [
       "<keras.layers.embeddings.Embedding at 0x1749d3c8f28>"
      ]
     },
     "execution_count": 15,
     "metadata": {},
     "output_type": "execute_result"
    }
   ],
   "source": [
    "my_model.layers[2]"
   ]
  },
  {
   "cell_type": "code",
   "execution_count": 16,
   "metadata": {},
   "outputs": [],
   "source": [
    "my_model.layers[2].set_weights([embedding_matrix])\n",
    "my_model.layers[2].trainable = False"
   ]
  },
  {
   "cell_type": "code",
   "execution_count": 17,
   "metadata": {},
   "outputs": [],
   "source": [
    "my_model.compile(loss='categorical_crossentropy', optimizer=Adam(lr=0.001))"
   ]
  },
  {
   "cell_type": "code",
   "execution_count": 18,
   "metadata": {},
   "outputs": [],
   "source": [
    "my_model.save('C:/Flickr8k_urdu_17july/model_weights/model_' + 'test' + '.h5')"
   ]
  },
  {
   "cell_type": "code",
   "execution_count": 17,
   "metadata": {},
   "outputs": [],
   "source": [
    "epochs = 10\n",
    "number_pics_per_bath = 15\n",
    "steps = len(train_descriptions)//number_pics_per_bath"
   ]
  },
  {
   "cell_type": "code",
   "execution_count": null,
   "metadata": {},
   "outputs": [
    {
     "name": "stdout",
     "output_type": "stream",
     "text": [
      "ERROR! Session/line number was not unique in database. History logging moved to new session 349\n"
     ]
    },
    {
     "name": "stderr",
     "output_type": "stream",
     "text": [
      "C:\\Users\\HP\\anaconda3\\envs\\python_36\\lib\\site-packages\\tensorflow_core\\python\\framework\\indexed_slices.py:424: UserWarning: Converting sparse IndexedSlices to a dense Tensor of unknown shape. This may consume a large amount of memory.\n",
      "  \"Converting sparse IndexedSlices to a dense Tensor of unknown shape. \"\n"
     ]
    },
    {
     "name": "stdout",
     "output_type": "stream",
     "text": [
      "Epoch 1/10\n",
      "400/400 [==============================] - 1250s 3s/step - loss: 4.0514 - accuracy: 0.2810\n",
      "Epoch 2/10\n",
      "400/400 [==============================] - 1308s 3s/step - loss: 3.0110 - accuracy: 0.4152\n",
      "Epoch 3/10\n",
      "400/400 [==============================] - 1338s 3s/step - loss: 2.7402 - accuracy: 0.4464\n",
      "Epoch 4/10\n",
      "400/400 [==============================] - 1335s 3s/step - loss: 2.5793 - accuracy: 0.4647\n",
      "Epoch 5/10\n",
      "400/400 [==============================] - 1335s 3s/step - loss: 2.4681 - accuracy: 0.4770\n",
      "Epoch 6/10\n",
      "400/400 [==============================] - 1348s 3s/step - loss: 2.3785 - accuracy: 0.4869\n",
      "Epoch 7/10\n",
      "400/400 [==============================] - 1338s 3s/step - loss: 2.3067 - accuracy: 0.4942\n",
      "Epoch 8/10\n",
      "400/400 [==============================] - 1350s 3s/step - loss: 2.2446 - accuracy: 0.5014\n",
      "Epoch 9/10\n",
      "400/400 [==============================] - 1417s 4s/step - loss: 2.1898 - accuracy: 0.5073\n",
      "Epoch 10/10\n",
      "400/400 [==============================] - 1469s 4s/step - loss: 2.1422 - accuracy: 0.5129\n",
      "Epoch 1/10\n",
      "  3/400 [..............................] - ETA: 24:58 - loss: 2.1088 - accuracy: 0.5054"
     ]
    },
    {
     "name": "stderr",
     "output_type": "stream",
     "text": [
      "ERROR:root:Internal Python error in the inspect module.\n",
      "Below is the traceback from this internal error.\n",
      "\n",
      "ERROR:root:Internal Python error in the inspect module.\n",
      "Below is the traceback from this internal error.\n",
      "\n",
      "ERROR:root:Internal Python error in the inspect module.\n",
      "Below is the traceback from this internal error.\n",
      "\n"
     ]
    },
    {
     "name": "stdout",
     "output_type": "stream",
     "text": [
      "Traceback (most recent call last):\n",
      "  File \"C:\\Users\\HP\\anaconda3\\envs\\python_36\\lib\\site-packages\\IPython\\core\\interactiveshell.py\", line 3343, in run_code\n",
      "    exec(code_obj, self.user_global_ns, self.user_ns)\n",
      "  File \"<ipython-input-18-21526417956c>\", line 7, in <module>\n",
      "    my_model.fit_generator(generator=generator1, epochs=10, steps_per_epoch=steps, verbose=1)\n",
      "  File \"C:\\Users\\HP\\anaconda3\\envs\\python_36\\lib\\site-packages\\keras\\legacy\\interfaces.py\", line 91, in wrapper\n",
      "    return func(*args, **kwargs)\n",
      "  File \"C:\\Users\\HP\\anaconda3\\envs\\python_36\\lib\\site-packages\\keras\\engine\\training.py\", line 1732, in fit_generator\n",
      "    initial_epoch=initial_epoch)\n",
      "  File \"C:\\Users\\HP\\anaconda3\\envs\\python_36\\lib\\site-packages\\keras\\engine\\training_generator.py\", line 220, in fit_generator\n",
      "    reset_metrics=False)\n",
      "  File \"C:\\Users\\HP\\anaconda3\\envs\\python_36\\lib\\site-packages\\keras\\engine\\training.py\", line 1514, in train_on_batch\n",
      "    outputs = self.train_function(ins)\n",
      "  File \"C:\\Users\\HP\\anaconda3\\envs\\python_36\\lib\\site-packages\\tensorflow_core\\python\\keras\\backend.py\", line 3740, in __call__\n",
      "    outputs = self._graph_fn(*converted_inputs)\n",
      "  File \"C:\\Users\\HP\\anaconda3\\envs\\python_36\\lib\\site-packages\\tensorflow_core\\python\\eager\\function.py\", line 1081, in __call__\n",
      "    return self._call_impl(args, kwargs)\n",
      "  File \"C:\\Users\\HP\\anaconda3\\envs\\python_36\\lib\\site-packages\\tensorflow_core\\python\\eager\\function.py\", line 1121, in _call_impl\n",
      "    return self._call_flat(args, self.captured_inputs, cancellation_manager)\n",
      "  File \"C:\\Users\\HP\\anaconda3\\envs\\python_36\\lib\\site-packages\\tensorflow_core\\python\\eager\\function.py\", line 1224, in _call_flat\n",
      "    ctx, args, cancellation_manager=cancellation_manager)\n",
      "  File \"C:\\Users\\HP\\anaconda3\\envs\\python_36\\lib\\site-packages\\tensorflow_core\\python\\eager\\function.py\", line 511, in call\n",
      "    ctx=ctx)\n",
      "  File \"C:\\Users\\HP\\anaconda3\\envs\\python_36\\lib\\site-packages\\tensorflow_core\\python\\eager\\execute.py\", line 61, in quick_execute\n",
      "    num_outputs)\n",
      "KeyboardInterrupt\n",
      "\n",
      "During handling of the above exception, another exception occurred:\n",
      "\n",
      "Traceback (most recent call last):\n",
      "  File \"C:\\Users\\HP\\anaconda3\\envs\\python_36\\lib\\site-packages\\IPython\\core\\interactiveshell.py\", line 2044, in showtraceback\n",
      "    stb = value._render_traceback_()\n",
      "AttributeError: 'KeyboardInterrupt' object has no attribute '_render_traceback_'\n",
      "\n",
      "During handling of the above exception, another exception occurred:\n",
      "\n",
      "Traceback (most recent call last):\n",
      "  File \"C:\\Users\\HP\\anaconda3\\envs\\python_36\\lib\\site-packages\\IPython\\core\\ultratb.py\", line 1169, in get_records\n",
      "    return _fixed_getinnerframes(etb, number_of_lines_of_context, tb_offset)\n",
      "  File \"C:\\Users\\HP\\anaconda3\\envs\\python_36\\lib\\site-packages\\IPython\\core\\ultratb.py\", line 316, in wrapped\n",
      "    return f(*args, **kwargs)\n",
      "  File \"C:\\Users\\HP\\anaconda3\\envs\\python_36\\lib\\site-packages\\IPython\\core\\ultratb.py\", line 350, in _fixed_getinnerframes\n",
      "    records = fix_frame_records_filenames(inspect.getinnerframes(etb, context))\n",
      "  File \"C:\\Users\\HP\\anaconda3\\envs\\python_36\\lib\\inspect.py\", line 1490, in getinnerframes\n",
      "    frameinfo = (tb.tb_frame,) + getframeinfo(tb, context)\n",
      "  File \"C:\\Users\\HP\\anaconda3\\envs\\python_36\\lib\\inspect.py\", line 1448, in getframeinfo\n",
      "    filename = getsourcefile(frame) or getfile(frame)\n",
      "  File \"C:\\Users\\HP\\anaconda3\\envs\\python_36\\lib\\inspect.py\", line 696, in getsourcefile\n",
      "    if getattr(getmodule(object, filename), '__loader__', None) is not None:\n",
      "  File \"C:\\Users\\HP\\anaconda3\\envs\\python_36\\lib\\inspect.py\", line 733, in getmodule\n",
      "    if ismodule(module) and hasattr(module, '__file__'):\n",
      "  File \"C:\\Users\\HP\\anaconda3\\envs\\python_36\\lib\\site-packages\\tensorflow\\__init__.py\", line 50, in __getattr__\n",
      "    module = self._load()\n",
      "  File \"C:\\Users\\HP\\anaconda3\\envs\\python_36\\lib\\site-packages\\tensorflow\\__init__.py\", line 44, in _load\n",
      "    module = _importlib.import_module(self.__name__)\n",
      "  File \"C:\\Users\\HP\\anaconda3\\envs\\python_36\\lib\\importlib\\__init__.py\", line 126, in import_module\n",
      "    return _bootstrap._gcd_import(name[level:], package, level)\n",
      "  File \"<frozen importlib._bootstrap>\", line 994, in _gcd_import\n",
      "  File \"<frozen importlib._bootstrap>\", line 971, in _find_and_load\n",
      "  File \"<frozen importlib._bootstrap>\", line 953, in _find_and_load_unlocked\n",
      "ModuleNotFoundError: No module named 'tensorflow_core.estimator'\n",
      "Traceback (most recent call last):\n",
      "  File \"C:\\Users\\HP\\anaconda3\\envs\\python_36\\lib\\site-packages\\IPython\\core\\interactiveshell.py\", line 3343, in run_code\n",
      "    exec(code_obj, self.user_global_ns, self.user_ns)\n",
      "  File \"<ipython-input-18-21526417956c>\", line 7, in <module>\n",
      "    my_model.fit_generator(generator=generator1, epochs=10, steps_per_epoch=steps, verbose=1)\n",
      "  File \"C:\\Users\\HP\\anaconda3\\envs\\python_36\\lib\\site-packages\\keras\\legacy\\interfaces.py\", line 91, in wrapper\n",
      "    return func(*args, **kwargs)\n",
      "  File \"C:\\Users\\HP\\anaconda3\\envs\\python_36\\lib\\site-packages\\keras\\engine\\training.py\", line 1732, in fit_generator\n",
      "    initial_epoch=initial_epoch)\n",
      "  File \"C:\\Users\\HP\\anaconda3\\envs\\python_36\\lib\\site-packages\\keras\\engine\\training_generator.py\", line 220, in fit_generator\n",
      "    reset_metrics=False)\n",
      "  File \"C:\\Users\\HP\\anaconda3\\envs\\python_36\\lib\\site-packages\\keras\\engine\\training.py\", line 1514, in train_on_batch\n",
      "    outputs = self.train_function(ins)\n",
      "  File \"C:\\Users\\HP\\anaconda3\\envs\\python_36\\lib\\site-packages\\tensorflow_core\\python\\keras\\backend.py\", line 3740, in __call__\n",
      "    outputs = self._graph_fn(*converted_inputs)\n",
      "  File \"C:\\Users\\HP\\anaconda3\\envs\\python_36\\lib\\site-packages\\tensorflow_core\\python\\eager\\function.py\", line 1081, in __call__\n",
      "    return self._call_impl(args, kwargs)\n",
      "  File \"C:\\Users\\HP\\anaconda3\\envs\\python_36\\lib\\site-packages\\tensorflow_core\\python\\eager\\function.py\", line 1121, in _call_impl\n",
      "    return self._call_flat(args, self.captured_inputs, cancellation_manager)\n",
      "  File \"C:\\Users\\HP\\anaconda3\\envs\\python_36\\lib\\site-packages\\tensorflow_core\\python\\eager\\function.py\", line 1224, in _call_flat\n",
      "    ctx, args, cancellation_manager=cancellation_manager)\n",
      "  File \"C:\\Users\\HP\\anaconda3\\envs\\python_36\\lib\\site-packages\\tensorflow_core\\python\\eager\\function.py\", line 511, in call\n",
      "    ctx=ctx)\n",
      "  File \"C:\\Users\\HP\\anaconda3\\envs\\python_36\\lib\\site-packages\\tensorflow_core\\python\\eager\\execute.py\", line 61, in quick_execute\n",
      "    num_outputs)\n",
      "KeyboardInterrupt\n",
      "\n",
      "During handling of the above exception, another exception occurred:\n",
      "\n",
      "Traceback (most recent call last):\n",
      "  File \"C:\\Users\\HP\\anaconda3\\envs\\python_36\\lib\\site-packages\\IPython\\core\\interactiveshell.py\", line 2044, in showtraceback\n",
      "    stb = value._render_traceback_()\n",
      "AttributeError: 'KeyboardInterrupt' object has no attribute '_render_traceback_'\n",
      "\n",
      "During handling of the above exception, another exception occurred:\n",
      "\n",
      "Traceback (most recent call last):\n",
      "  File \"C:\\Users\\HP\\anaconda3\\envs\\python_36\\lib\\site-packages\\IPython\\core\\interactiveshell.py\", line 3263, in run_ast_nodes\n",
      "    if (await self.run_code(code, result,  async_=asy)):\n",
      "  File \"C:\\Users\\HP\\anaconda3\\envs\\python_36\\lib\\site-packages\\IPython\\core\\interactiveshell.py\", line 3360, in run_code\n",
      "    self.showtraceback(running_compiled_code=True)\n",
      "  File \"C:\\Users\\HP\\anaconda3\\envs\\python_36\\lib\\site-packages\\IPython\\core\\interactiveshell.py\", line 2047, in showtraceback\n",
      "    value, tb, tb_offset=tb_offset)\n",
      "  File \"C:\\Users\\HP\\anaconda3\\envs\\python_36\\lib\\site-packages\\IPython\\core\\ultratb.py\", line 1436, in structured_traceback\n",
      "    self, etype, value, tb, tb_offset, number_of_lines_of_context)\n",
      "  File \"C:\\Users\\HP\\anaconda3\\envs\\python_36\\lib\\site-packages\\IPython\\core\\ultratb.py\", line 1336, in structured_traceback\n",
      "    self, etype, value, tb, tb_offset, number_of_lines_of_context\n",
      "  File \"C:\\Users\\HP\\anaconda3\\envs\\python_36\\lib\\site-packages\\IPython\\core\\ultratb.py\", line 1193, in structured_traceback\n",
      "    tb_offset)\n",
      "  File \"C:\\Users\\HP\\anaconda3\\envs\\python_36\\lib\\site-packages\\IPython\\core\\ultratb.py\", line 1150, in format_exception_as_a_whole\n",
      "    last_unique, recursion_repeat = find_recursion(orig_etype, evalue, records)\n",
      "  File \"C:\\Users\\HP\\anaconda3\\envs\\python_36\\lib\\site-packages\\IPython\\core\\ultratb.py\", line 451, in find_recursion\n",
      "    return len(records), 0\n",
      "TypeError: object of type 'NoneType' has no len()\n",
      "\n",
      "During handling of the above exception, another exception occurred:\n",
      "\n",
      "Traceback (most recent call last):\n",
      "  File \"C:\\Users\\HP\\anaconda3\\envs\\python_36\\lib\\site-packages\\IPython\\core\\interactiveshell.py\", line 2044, in showtraceback\n",
      "    stb = value._render_traceback_()\n",
      "AttributeError: 'TypeError' object has no attribute '_render_traceback_'\n",
      "\n",
      "During handling of the above exception, another exception occurred:\n",
      "\n",
      "Traceback (most recent call last):\n",
      "  File \"C:\\Users\\HP\\anaconda3\\envs\\python_36\\lib\\site-packages\\IPython\\core\\ultratb.py\", line 1169, in get_records\n",
      "    return _fixed_getinnerframes(etb, number_of_lines_of_context, tb_offset)\n",
      "  File \"C:\\Users\\HP\\anaconda3\\envs\\python_36\\lib\\site-packages\\IPython\\core\\ultratb.py\", line 316, in wrapped\n",
      "    return f(*args, **kwargs)\n",
      "  File \"C:\\Users\\HP\\anaconda3\\envs\\python_36\\lib\\site-packages\\IPython\\core\\ultratb.py\", line 350, in _fixed_getinnerframes\n",
      "    records = fix_frame_records_filenames(inspect.getinnerframes(etb, context))\n",
      "  File \"C:\\Users\\HP\\anaconda3\\envs\\python_36\\lib\\inspect.py\", line 1490, in getinnerframes\n",
      "    frameinfo = (tb.tb_frame,) + getframeinfo(tb, context)\n",
      "  File \"C:\\Users\\HP\\anaconda3\\envs\\python_36\\lib\\inspect.py\", line 1448, in getframeinfo\n",
      "    filename = getsourcefile(frame) or getfile(frame)\n",
      "  File \"C:\\Users\\HP\\anaconda3\\envs\\python_36\\lib\\inspect.py\", line 696, in getsourcefile\n",
      "    if getattr(getmodule(object, filename), '__loader__', None) is not None:\n",
      "  File \"C:\\Users\\HP\\anaconda3\\envs\\python_36\\lib\\inspect.py\", line 733, in getmodule\n",
      "    if ismodule(module) and hasattr(module, '__file__'):\n",
      "  File \"C:\\Users\\HP\\anaconda3\\envs\\python_36\\lib\\site-packages\\tensorflow\\__init__.py\", line 50, in __getattr__\n",
      "    module = self._load()\n",
      "  File \"C:\\Users\\HP\\anaconda3\\envs\\python_36\\lib\\site-packages\\tensorflow\\__init__.py\", line 44, in _load\n",
      "    module = _importlib.import_module(self.__name__)\n",
      "  File \"C:\\Users\\HP\\anaconda3\\envs\\python_36\\lib\\importlib\\__init__.py\", line 126, in import_module\n",
      "    return _bootstrap._gcd_import(name[level:], package, level)\n",
      "  File \"<frozen importlib._bootstrap>\", line 994, in _gcd_import\n",
      "  File \"<frozen importlib._bootstrap>\", line 971, in _find_and_load\n",
      "  File \"<frozen importlib._bootstrap>\", line 953, in _find_and_load_unlocked\n",
      "ModuleNotFoundError: No module named 'tensorflow_core.estimator'\n",
      "Traceback (most recent call last):\n",
      "  File \"C:\\Users\\HP\\anaconda3\\envs\\python_36\\lib\\site-packages\\IPython\\core\\interactiveshell.py\", line 3343, in run_code\n",
      "    exec(code_obj, self.user_global_ns, self.user_ns)\n",
      "  File \"<ipython-input-18-21526417956c>\", line 7, in <module>\n",
      "    my_model.fit_generator(generator=generator1, epochs=10, steps_per_epoch=steps, verbose=1)\n",
      "  File \"C:\\Users\\HP\\anaconda3\\envs\\python_36\\lib\\site-packages\\keras\\legacy\\interfaces.py\", line 91, in wrapper\n",
      "    return func(*args, **kwargs)\n",
      "  File \"C:\\Users\\HP\\anaconda3\\envs\\python_36\\lib\\site-packages\\keras\\engine\\training.py\", line 1732, in fit_generator\n",
      "    initial_epoch=initial_epoch)\n",
      "  File \"C:\\Users\\HP\\anaconda3\\envs\\python_36\\lib\\site-packages\\keras\\engine\\training_generator.py\", line 220, in fit_generator\n",
      "    reset_metrics=False)\n",
      "  File \"C:\\Users\\HP\\anaconda3\\envs\\python_36\\lib\\site-packages\\keras\\engine\\training.py\", line 1514, in train_on_batch\n",
      "    outputs = self.train_function(ins)\n",
      "  File \"C:\\Users\\HP\\anaconda3\\envs\\python_36\\lib\\site-packages\\tensorflow_core\\python\\keras\\backend.py\", line 3740, in __call__\n",
      "    outputs = self._graph_fn(*converted_inputs)\n",
      "  File \"C:\\Users\\HP\\anaconda3\\envs\\python_36\\lib\\site-packages\\tensorflow_core\\python\\eager\\function.py\", line 1081, in __call__\n",
      "    return self._call_impl(args, kwargs)\n",
      "  File \"C:\\Users\\HP\\anaconda3\\envs\\python_36\\lib\\site-packages\\tensorflow_core\\python\\eager\\function.py\", line 1121, in _call_impl\n",
      "    return self._call_flat(args, self.captured_inputs, cancellation_manager)\n",
      "  File \"C:\\Users\\HP\\anaconda3\\envs\\python_36\\lib\\site-packages\\tensorflow_core\\python\\eager\\function.py\", line 1224, in _call_flat\n",
      "    ctx, args, cancellation_manager=cancellation_manager)\n",
      "  File \"C:\\Users\\HP\\anaconda3\\envs\\python_36\\lib\\site-packages\\tensorflow_core\\python\\eager\\function.py\", line 511, in call\n",
      "    ctx=ctx)\n",
      "  File \"C:\\Users\\HP\\anaconda3\\envs\\python_36\\lib\\site-packages\\tensorflow_core\\python\\eager\\execute.py\", line 61, in quick_execute\n",
      "    num_outputs)\n",
      "KeyboardInterrupt\n",
      "\n",
      "During handling of the above exception, another exception occurred:\n",
      "\n",
      "Traceback (most recent call last):\n",
      "  File \"C:\\Users\\HP\\anaconda3\\envs\\python_36\\lib\\site-packages\\IPython\\core\\interactiveshell.py\", line 2044, in showtraceback\n",
      "    stb = value._render_traceback_()\n",
      "AttributeError: 'KeyboardInterrupt' object has no attribute '_render_traceback_'\n",
      "\n",
      "During handling of the above exception, another exception occurred:\n",
      "\n",
      "Traceback (most recent call last):\n",
      "  File \"C:\\Users\\HP\\anaconda3\\envs\\python_36\\lib\\site-packages\\IPython\\core\\interactiveshell.py\", line 3263, in run_ast_nodes\n",
      "    if (await self.run_code(code, result,  async_=asy)):\n",
      "  File \"C:\\Users\\HP\\anaconda3\\envs\\python_36\\lib\\site-packages\\IPython\\core\\interactiveshell.py\", line 3360, in run_code\n",
      "    self.showtraceback(running_compiled_code=True)\n",
      "  File \"C:\\Users\\HP\\anaconda3\\envs\\python_36\\lib\\site-packages\\IPython\\core\\interactiveshell.py\", line 2047, in showtraceback\n",
      "    value, tb, tb_offset=tb_offset)\n",
      "  File \"C:\\Users\\HP\\anaconda3\\envs\\python_36\\lib\\site-packages\\IPython\\core\\ultratb.py\", line 1436, in structured_traceback\n",
      "    self, etype, value, tb, tb_offset, number_of_lines_of_context)\n",
      "  File \"C:\\Users\\HP\\anaconda3\\envs\\python_36\\lib\\site-packages\\IPython\\core\\ultratb.py\", line 1336, in structured_traceback\n",
      "    self, etype, value, tb, tb_offset, number_of_lines_of_context\n",
      "  File \"C:\\Users\\HP\\anaconda3\\envs\\python_36\\lib\\site-packages\\IPython\\core\\ultratb.py\", line 1193, in structured_traceback\n",
      "    tb_offset)\n",
      "  File \"C:\\Users\\HP\\anaconda3\\envs\\python_36\\lib\\site-packages\\IPython\\core\\ultratb.py\", line 1150, in format_exception_as_a_whole\n",
      "    last_unique, recursion_repeat = find_recursion(orig_etype, evalue, records)\n",
      "  File \"C:\\Users\\HP\\anaconda3\\envs\\python_36\\lib\\site-packages\\IPython\\core\\ultratb.py\", line 451, in find_recursion\n",
      "    return len(records), 0\n",
      "TypeError: object of type 'NoneType' has no len()\n",
      "\n",
      "During handling of the above exception, another exception occurred:\n",
      "\n",
      "Traceback (most recent call last):\n",
      "  File \"C:\\Users\\HP\\anaconda3\\envs\\python_36\\lib\\site-packages\\IPython\\core\\interactiveshell.py\", line 2044, in showtraceback\n",
      "    stb = value._render_traceback_()\n",
      "AttributeError: 'TypeError' object has no attribute '_render_traceback_'\n",
      "\n",
      "During handling of the above exception, another exception occurred:\n",
      "\n",
      "Traceback (most recent call last):\n",
      "  File \"C:\\Users\\HP\\anaconda3\\envs\\python_36\\lib\\site-packages\\IPython\\core\\interactiveshell.py\", line 2895, in _run_cell\n",
      "    return runner(coro)\n",
      "  File \"C:\\Users\\HP\\anaconda3\\envs\\python_36\\lib\\site-packages\\IPython\\core\\async_helpers.py\", line 68, in _pseudo_sync_runner\n",
      "    coro.send(None)\n",
      "  File \"C:\\Users\\HP\\anaconda3\\envs\\python_36\\lib\\site-packages\\IPython\\core\\interactiveshell.py\", line 3072, in run_cell_async\n",
      "    interactivity=interactivity, compiler=compiler, result=result)\n",
      "  File \"C:\\Users\\HP\\anaconda3\\envs\\python_36\\lib\\site-packages\\IPython\\core\\interactiveshell.py\", line 3282, in run_ast_nodes\n",
      "    self.showtraceback()\n",
      "  File \"C:\\Users\\HP\\anaconda3\\envs\\python_36\\lib\\site-packages\\IPython\\core\\interactiveshell.py\", line 2047, in showtraceback\n",
      "    value, tb, tb_offset=tb_offset)\n",
      "  File \"C:\\Users\\HP\\anaconda3\\envs\\python_36\\lib\\site-packages\\IPython\\core\\ultratb.py\", line 1436, in structured_traceback\n",
      "    self, etype, value, tb, tb_offset, number_of_lines_of_context)\n",
      "  File \"C:\\Users\\HP\\anaconda3\\envs\\python_36\\lib\\site-packages\\IPython\\core\\ultratb.py\", line 1336, in structured_traceback\n",
      "    self, etype, value, tb, tb_offset, number_of_lines_of_context\n",
      "  File \"C:\\Users\\HP\\anaconda3\\envs\\python_36\\lib\\site-packages\\IPython\\core\\ultratb.py\", line 1211, in structured_traceback\n",
      "    chained_exceptions_tb_offset)\n",
      "  File \"C:\\Users\\HP\\anaconda3\\envs\\python_36\\lib\\site-packages\\IPython\\core\\ultratb.py\", line 1150, in format_exception_as_a_whole\n",
      "    last_unique, recursion_repeat = find_recursion(orig_etype, evalue, records)\n",
      "  File \"C:\\Users\\HP\\anaconda3\\envs\\python_36\\lib\\site-packages\\IPython\\core\\ultratb.py\", line 451, in find_recursion\n",
      "    return len(records), 0\n",
      "TypeError: object of type 'NoneType' has no len()\n",
      "\n",
      "During handling of the above exception, another exception occurred:\n",
      "\n",
      "Traceback (most recent call last):\n",
      "  File \"C:\\Users\\HP\\anaconda3\\envs\\python_36\\lib\\site-packages\\IPython\\core\\interactiveshell.py\", line 2044, in showtraceback\n",
      "    stb = value._render_traceback_()\n",
      "AttributeError: 'TypeError' object has no attribute '_render_traceback_'\n",
      "\n",
      "During handling of the above exception, another exception occurred:\n",
      "\n",
      "Traceback (most recent call last):\n",
      "  File \"C:\\Users\\HP\\anaconda3\\envs\\python_36\\lib\\site-packages\\IPython\\core\\ultratb.py\", line 1169, in get_records\n",
      "    return _fixed_getinnerframes(etb, number_of_lines_of_context, tb_offset)\n",
      "  File \"C:\\Users\\HP\\anaconda3\\envs\\python_36\\lib\\site-packages\\IPython\\core\\ultratb.py\", line 316, in wrapped\n",
      "    return f(*args, **kwargs)\n",
      "  File \"C:\\Users\\HP\\anaconda3\\envs\\python_36\\lib\\site-packages\\IPython\\core\\ultratb.py\", line 350, in _fixed_getinnerframes\n",
      "    records = fix_frame_records_filenames(inspect.getinnerframes(etb, context))\n",
      "  File \"C:\\Users\\HP\\anaconda3\\envs\\python_36\\lib\\inspect.py\", line 1490, in getinnerframes\n",
      "    frameinfo = (tb.tb_frame,) + getframeinfo(tb, context)\n",
      "  File \"C:\\Users\\HP\\anaconda3\\envs\\python_36\\lib\\inspect.py\", line 1448, in getframeinfo\n",
      "    filename = getsourcefile(frame) or getfile(frame)\n",
      "  File \"C:\\Users\\HP\\anaconda3\\envs\\python_36\\lib\\inspect.py\", line 696, in getsourcefile\n",
      "    if getattr(getmodule(object, filename), '__loader__', None) is not None:\n",
      "  File \"C:\\Users\\HP\\anaconda3\\envs\\python_36\\lib\\inspect.py\", line 733, in getmodule\n",
      "    if ismodule(module) and hasattr(module, '__file__'):\n",
      "  File \"C:\\Users\\HP\\anaconda3\\envs\\python_36\\lib\\site-packages\\tensorflow\\__init__.py\", line 50, in __getattr__\n",
      "    module = self._load()\n",
      "  File \"C:\\Users\\HP\\anaconda3\\envs\\python_36\\lib\\site-packages\\tensorflow\\__init__.py\", line 44, in _load\n",
      "    module = _importlib.import_module(self.__name__)\n",
      "  File \"C:\\Users\\HP\\anaconda3\\envs\\python_36\\lib\\importlib\\__init__.py\", line 126, in import_module\n",
      "    return _bootstrap._gcd_import(name[level:], package, level)\n",
      "  File \"<frozen importlib._bootstrap>\", line 994, in _gcd_import\n",
      "  File \"<frozen importlib._bootstrap>\", line 971, in _find_and_load\n",
      "  File \"<frozen importlib._bootstrap>\", line 953, in _find_and_load_unlocked\n",
      "ModuleNotFoundError: No module named 'tensorflow_core.estimator'\n"
     ]
    }
   ],
   "source": [
    "my_model.compile(optimizer='adam',\n",
    "                  loss='categorical_crossentropy',\n",
    "                  metrics=['accuracy'])\n",
    "for i in range(epochs):\n",
    "    generator1 = data_generator(train_descriptions, train_features, wordtoix, max_length, number_pics_per_bath)\n",
    "    #my_model.fit_generator(generator=generator1, steps_per_epoch=steps, epochs=epochs,verbose=1)\n",
    "    my_model.fit_generator(generator=generator1, epochs=10, steps_per_epoch=steps, verbose=1)\n",
    "    #my_model.fit(generator1, epochs=epochs)\n",
    "    my_model.save('C:/Flickr8k_urdu_17july/model_weights/model_' + str(i) + '.h5')"
   ]
  },
  {
   "cell_type": "code",
   "execution_count": 18,
   "metadata": {},
   "outputs": [
    {
     "name": "stdout",
     "output_type": "stream",
     "text": [
      "ERROR! Session/line number was not unique in database. History logging moved to new session 351\n"
     ]
    }
   ],
   "source": [
    "with open('C:/Flickr8k_urdu_17july/model_weights/Caption_generator_Model.pkl', 'wb') as model:\n",
    "    pickle.dump(my_model, model)"
   ]
  },
  {
   "cell_type": "code",
   "execution_count": 19,
   "metadata": {},
   "outputs": [
    {
     "name": "stdout",
     "output_type": "stream",
     "text": [
      "Package                 Version\n",
      "----------------------- -----------\n",
      "absl-py                 0.15.0\n",
      "aiohttp                 3.7.4.post0\n",
      "argon2-cffi             20.1.0\n",
      "astor                   0.8.1\n",
      "astunparse              1.6.3\n",
      "async-generator         1.10\n",
      "async-timeout           3.0.1\n",
      "attrs                   21.4.0\n",
      "backcall                0.2.0\n",
      "bleach                  4.1.0\n",
      "blinker                 1.4\n",
      "brotlipy                0.7.0\n",
      "cached-property         1.5.2\n",
      "cachetools              4.2.4\n",
      "certifi                 2021.5.30\n",
      "cffi                    1.14.6\n",
      "chardet                 4.0.0\n",
      "charset-normalizer      2.0.12\n",
      "clang                   5.0\n",
      "click                   8.0.3\n",
      "colorama                0.4.4\n",
      "cryptography            35.0.0\n",
      "cycler                  0.11.0\n",
      "dataclasses             0.8\n",
      "decorator               5.1.1\n",
      "defusedxml              0.7.1\n",
      "entrypoints             0.3\n",
      "flatbuffers             1.12\n",
      "gast                    0.4.0\n",
      "google-auth             2.6.0\n",
      "google-auth-oauthlib    0.4.6\n",
      "google-pasta            0.2.0\n",
      "grpcio                  1.46.3\n",
      "h5py                    2.10.0\n",
      "idna                    3.3\n",
      "idna-ssl                1.1.0\n",
      "importlib-metadata      4.8.1\n",
      "importlib-resources     5.4.0\n",
      "ipykernel               5.3.4\n",
      "ipython                 7.16.1\n",
      "ipython-genutils        0.2.0\n",
      "ipywidgets              7.7.1\n",
      "jedi                    0.17.0\n",
      "Jinja2                  3.0.3\n",
      "jsonschema              3.0.2\n",
      "jupyter-client          7.1.2\n",
      "jupyter-core            4.8.1\n",
      "jupyterlab-pygments     0.1.2\n",
      "jupyterlab-widgets      1.1.1\n",
      "Keras                   2.3.1\n",
      "Keras-Applications      1.0.8\n",
      "Keras-Preprocessing     1.1.2\n",
      "kiwisolver              1.3.1\n",
      "Markdown                3.3.4\n",
      "MarkupSafe              2.0.1\n",
      "matplotlib              3.0.3\n",
      "mistune                 0.8.4\n",
      "mkl-fft                 1.2.0\n",
      "mkl-random              1.1.1\n",
      "mkl-service             2.3.0\n",
      "mock                    4.0.3\n",
      "multidict               5.1.0\n",
      "nbclient                0.5.3\n",
      "nbconvert               6.0.7\n",
      "nbformat                5.1.3\n",
      "nest-asyncio            1.5.1\n",
      "nltk                    3.2.5\n",
      "notebook                6.4.3\n",
      "numpy                   1.19.5\n",
      "oauthlib                3.2.0\n",
      "olefile                 0.46\n",
      "opt-einsum              3.3.0\n",
      "packaging               21.3\n",
      "pandas                  1.1.5\n",
      "pandocfilters           1.5.0\n",
      "parso                   0.8.3\n",
      "pickleshare             0.7.5\n",
      "Pillow                  4.3.0\n",
      "pip                     21.2.2\n",
      "prometheus-client       0.13.1\n",
      "prompt-toolkit          3.0.20\n",
      "protobuf                3.17.2\n",
      "pyasn1                  0.4.8\n",
      "pyasn1-modules          0.2.8\n",
      "pycparser               2.21\n",
      "Pygments                2.11.2\n",
      "PyJWT                   1.7.1\n",
      "pyOpenSSL               22.0.0\n",
      "pyparsing               3.0.4\n",
      "pyreadline              2.1\n",
      "pyrsistent              0.17.3\n",
      "PySocks                 1.7.1\n",
      "python-dateutil         2.8.2\n",
      "pytz                    2021.3\n",
      "pywin32                 228\n",
      "pywinpty                0.5.7\n",
      "PyYAML                  5.4.1\n",
      "pyzmq                   22.2.1\n",
      "requests                2.27.1\n",
      "requests-oauthlib       1.3.1\n",
      "rsa                     4.8\n",
      "scipy                   1.5.2\n",
      "Send2Trash              1.8.0\n",
      "setuptools              58.0.4\n",
      "six                     1.16.0\n",
      "tensorboard             2.0.0\n",
      "tensorboard-data-server 0.6.1\n",
      "tensorboard-plugin-wit  1.8.1\n",
      "tensorflow              2.0.0\n",
      "tensorflow-estimator    2.6.0\n",
      "termcolor               1.1.0\n",
      "terminado               0.9.4\n",
      "testpath                0.5.0\n",
      "tornado                 6.1\n",
      "tqdm                    4.64.0\n",
      "traitlets               4.3.3\n",
      "typing_extensions       4.1.1\n",
      "urllib3                 1.26.9\n",
      "wcwidth                 0.2.5\n",
      "webencodings            0.5.1\n",
      "Werkzeug                0.16.1\n",
      "wheel                   0.37.1\n",
      "widgetsnbextension      3.6.1\n",
      "win-inet-pton           1.1.0\n",
      "wincertstore            0.2\n",
      "wrapt                   1.12.1\n",
      "yarl                    1.6.3\n",
      "zipp                    3.6.0\n"
     ]
    },
    {
     "name": "stderr",
     "output_type": "stream",
     "text": [
      "WARNING: Ignoring invalid distribution -ensorflow (c:\\users\\hp\\anaconda3\\envs\\python_36\\lib\\site-packages)\n",
      "WARNING: No metadata found in c:\\users\\hp\\anaconda3\\envs\\python_36\\lib\\site-packages\n",
      "WARNING: Ignoring invalid distribution -ensorflow (c:\\users\\hp\\anaconda3\\envs\\python_36\\lib\\site-packages)\n",
      "WARNING: Ignoring invalid distribution -ensorflow (c:\\users\\hp\\anaconda3\\envs\\python_36\\lib\\site-packages)\n",
      "WARNING: Ignoring invalid distribution -ensorflow (c:\\users\\hp\\anaconda3\\envs\\python_36\\lib\\site-packages)\n"
     ]
    }
   ],
   "source": [
    "!pip list"
   ]
  },
  {
   "cell_type": "code",
   "execution_count": null,
   "metadata": {},
   "outputs": [],
   "source": []
  },
  {
   "cell_type": "code",
   "execution_count": null,
   "metadata": {},
   "outputs": [],
   "source": []
  }
 ],
 "metadata": {
  "kernelspec": {
   "display_name": "Python 3",
   "language": "python",
   "name": "python3"
  },
  "language_info": {
   "codemirror_mode": {
    "name": "ipython",
    "version": 3
   },
   "file_extension": ".py",
   "mimetype": "text/x-python",
   "name": "python",
   "nbconvert_exporter": "python",
   "pygments_lexer": "ipython3",
   "version": "3.6.13"
  }
 },
 "nbformat": 4,
 "nbformat_minor": 2
}
